{
 "cells": [
  {
   "cell_type": "markdown",
   "id": "85d698ab",
   "metadata": {},
   "source": [
    "# Python Sets Tutorial"
   ]
  },
  {
   "cell_type": "markdown",
   "id": "fd6a12e2-60d7-40a2-848a-9599104bba0d",
   "metadata": {},
   "source": [
    "## Introduction"
   ]
  },
  {
   "cell_type": "markdown",
   "id": "c3640fd4",
   "metadata": {},
   "source": [
    "This notebook was created by [Jupyter AI](https://github.com/jupyterlab/jupyter-ai) with the following prompt:\n",
    "\n",
    "> A Python notebook that teaches how to use sets."
   ]
  },
  {
   "cell_type": "markdown",
   "id": "7fe7f535",
   "metadata": {},
   "source": [
    "This Jupyter notebook teaches how to use sets in Python, covering topics such as creating a set, adding and removing elements from a set, set operations such as union, intersection, and difference, set comprehensions, and frozen sets. Each section includes improved and validated code examples to demonstrate the concepts. The notebook provides a comprehensive guide to working with sets in Python."
   ]
  },
  {
   "cell_type": "markdown",
   "id": "43923cd7",
   "metadata": {},
   "source": [
    "## Adding Elements to a Set"
   ]
  },
  {
   "cell_type": "code",
   "execution_count": 1,
   "id": "c3eae75f",
   "metadata": {
    "tags": []
   },
   "outputs": [
    {
     "name": "stdout",
     "output_type": "stream",
     "text": [
      "{1, 2, 3, 4, 5, 6}\n"
     ]
    }
   ],
   "source": [
    "# Improved and Valid Code for \"Adding Elements to a Set\" section:\n",
    "# To add an element to a set, use the add() method.\n",
    "# Here is an example:\n",
    "my_set = {1, 2, 3, 4, 5}\n",
    "my_set.add(6)\n",
    "print(my_set) # Output: {1, 2, 3, 4, 5, 6}"
   ]
  },
  {
   "cell_type": "code",
   "execution_count": 2,
   "id": "f6e3726d",
   "metadata": {
    "tags": []
   },
   "outputs": [
    {
     "name": "stdout",
     "output_type": "stream",
     "text": [
      "{1, 2, 3, 4, 5, 6, 7, 8, 9}\n"
     ]
    }
   ],
   "source": [
    "# You can also add multiple elements to a set using the update() method.\n",
    "# The update() method takes an iterable as its argument.\n",
    "# Here is an example:\n",
    "my_set.update([7, 8, 9])\n",
    "print(my_set) # Output: {1, 2, 3, 4, 5, 6, 7, 8, 9}"
   ]
  },
  {
   "cell_type": "code",
   "execution_count": 3,
   "id": "39352fae",
   "metadata": {
    "tags": []
   },
   "outputs": [
    {
     "name": "stdout",
     "output_type": "stream",
     "text": [
      "{1, 2, 3, 4, 5, 6, 7, 8, 9}\n"
     ]
    }
   ],
   "source": [
    "# You can also add multiple elements to a set using the update() method.\n",
    "# The update() method takes an iterable as its argument.\n",
    "# Here is an example:\n",
    "my_set.update([7, 8, 9])\n",
    "print(my_set) # Output: {1, 2, 3, 4, 5, 6, 7, 8, 9}"
   ]
  },
  {
   "cell_type": "markdown",
   "id": "0c401d3d",
   "metadata": {},
   "source": [
    "## Removing Elements from a Set"
   ]
  },
  {
   "cell_type": "code",
   "execution_count": 4,
   "id": "625ae27f",
   "metadata": {
    "tags": []
   },
   "outputs": [],
   "source": [
    "# Improved and validated code for \"Removing Elements from a Set\" section:"
   ]
  },
  {
   "cell_type": "code",
   "execution_count": 5,
   "id": "a02781a0",
   "metadata": {
    "tags": []
   },
   "outputs": [],
   "source": [
    "# Define a set\n",
    "my_set = {1, 2, 3, 4, 5, 6, 7, 8, 9}"
   ]
  },
  {
   "cell_type": "code",
   "execution_count": 6,
   "id": "b0cf21d4",
   "metadata": {
    "tags": []
   },
   "outputs": [
    {
     "name": "stdout",
     "output_type": "stream",
     "text": [
      "{1, 2, 3, 4, 6, 7, 8, 9}\n"
     ]
    }
   ],
   "source": [
    "# Remove an element from the set using the remove() method\n",
    "my_set.remove(5)\n",
    "print(my_set) # Output: {1, 2, 3, 4, 6, 7, 8, 9}"
   ]
  },
  {
   "cell_type": "code",
   "execution_count": 7,
   "id": "c99bd165",
   "metadata": {
    "tags": []
   },
   "outputs": [
    {
     "name": "stdout",
     "output_type": "stream",
     "text": [
      "{1, 2, 3, 4, 6, 7, 8, 9}\n"
     ]
    }
   ],
   "source": [
    "# Remove an element from the set using the discard() method\n",
    "# The difference between remove() and discard() is that discard() does not raise an error if the element is not in the set.\n",
    "my_set.discard(10)\n",
    "print(my_set) # Output: {1, 2, 3, 4, 6, 7, 8, 9}"
   ]
  },
  {
   "cell_type": "code",
   "execution_count": 8,
   "id": "360ce05d",
   "metadata": {
    "tags": []
   },
   "outputs": [
    {
     "name": "stdout",
     "output_type": "stream",
     "text": [
      "1\n",
      "{2, 3, 4, 6, 7, 8, 9}\n"
     ]
    }
   ],
   "source": [
    "# Remove an element from the set using the pop() method\n",
    "# The pop() method removes and returns an arbitrary element from the set.\n",
    "removed_element = my_set.pop()\n",
    "print(removed_element) # Output: 1\n",
    "print(my_set) # Output: {2, 3, 4, 6, 7, 8, 9}"
   ]
  },
  {
   "cell_type": "code",
   "execution_count": 9,
   "id": "c9122fed",
   "metadata": {
    "tags": []
   },
   "outputs": [
    {
     "name": "stdout",
     "output_type": "stream",
     "text": [
      "2\n",
      "{3, 4, 6, 7, 8, 9}\n"
     ]
    }
   ],
   "source": [
    "# Remove an element from the set using the pop() method\n",
    "# The pop() method removes and returns an arbitrary element from the set.\n",
    "removed_element = my_set.pop()\n",
    "print(removed_element) # Output: 1\n",
    "print(my_set) # Output: {2, 3, 4, 6, 7, 8, 9}"
   ]
  },
  {
   "cell_type": "markdown",
   "id": "8b4a3e81",
   "metadata": {},
   "source": [
    "## Set Operations"
   ]
  },
  {
   "cell_type": "code",
   "execution_count": 10,
   "id": "2eb675ba",
   "metadata": {
    "tags": []
   },
   "outputs": [],
   "source": [
    "# Improved and Valid Code for the \"Set Operations\" section:"
   ]
  },
  {
   "cell_type": "code",
   "execution_count": 11,
   "id": "4f771bfc",
   "metadata": {
    "tags": []
   },
   "outputs": [
    {
     "name": "stdout",
     "output_type": "stream",
     "text": [
      "Union Set:  {1, 2, 3, 4, 5}\n"
     ]
    }
   ],
   "source": [
    "# To perform set operations such as union, intersection, and difference, use the corresponding methods.\n",
    "# Union: the union() method returns a set containing all the elements of both sets.\n",
    "# Here is an example:\n",
    "set1 = {1, 2, 3}\n",
    "set2 = {3, 4, 5}\n",
    "union_set = set1.union(set2)\n",
    "print(\"Union Set: \", union_set) # Output: {1, 2, 3, 4, 5}"
   ]
  },
  {
   "cell_type": "code",
   "execution_count": 12,
   "id": "f5c72af9",
   "metadata": {
    "tags": []
   },
   "outputs": [
    {
     "name": "stdout",
     "output_type": "stream",
     "text": [
      "Intersection Set:  {3}\n"
     ]
    }
   ],
   "source": [
    "# Intersection: the intersection() method returns a set containing only the elements that are common to both sets.\n",
    "# Here is an example:\n",
    "intersection_set = set1.intersection(set2)\n",
    "print(\"Intersection Set: \", intersection_set) # Output: {3}"
   ]
  },
  {
   "cell_type": "code",
   "execution_count": 13,
   "id": "2b4dd0e6",
   "metadata": {
    "tags": []
   },
   "outputs": [
    {
     "name": "stdout",
     "output_type": "stream",
     "text": [
      "Difference Set:  {1, 2}\n"
     ]
    }
   ],
   "source": [
    "# Difference: the difference() method returns a set containing the elements that are in the first set but not in the second set.\n",
    "# Here is an example:\n",
    "difference_set = set1.difference(set2)\n",
    "print(\"Difference Set: \", difference_set) # Output: {1, 2}"
   ]
  },
  {
   "cell_type": "code",
   "execution_count": 14,
   "id": "ebabab91",
   "metadata": {
    "tags": []
   },
   "outputs": [
    {
     "name": "stdout",
     "output_type": "stream",
     "text": [
      "Difference Set using '-' operator:  {1, 2}\n"
     ]
    }
   ],
   "source": [
    "# Alternatively, you can use the '-' operator to find the difference between two sets:\n",
    "difference_set = set1 - set2\n",
    "print(\"Difference Set using '-' operator: \", difference_set) # Output: {1, 2}"
   ]
  },
  {
   "cell_type": "code",
   "execution_count": 15,
   "id": "c6da13f8",
   "metadata": {
    "tags": []
   },
   "outputs": [
    {
     "name": "stdout",
     "output_type": "stream",
     "text": [
      "Difference Set using '-' operator:  {1, 2}\n"
     ]
    }
   ],
   "source": [
    "# Alternatively, you can use the '-' operator to find the difference between two sets:\n",
    "difference_set = set1 - set2\n",
    "print(\"Difference Set using '-' operator: \", difference_set) # Output: {1, 2}"
   ]
  },
  {
   "cell_type": "markdown",
   "id": "eeea8161",
   "metadata": {},
   "source": [
    "## Set Comprehensions"
   ]
  },
  {
   "cell_type": "code",
   "execution_count": 16,
   "id": "7b3766a7",
   "metadata": {
    "tags": []
   },
   "outputs": [],
   "source": [
    "# Improved and Valid Code for the \"Set Comprehensions\" section:"
   ]
  },
  {
   "cell_type": "code",
   "execution_count": 17,
   "id": "193bd32f",
   "metadata": {
    "tags": []
   },
   "outputs": [
    {
     "name": "stdout",
     "output_type": "stream",
     "text": [
      "{0, 1, 2, 3, 4, 5, 6, 7, 8, 9}\n"
     ]
    }
   ],
   "source": [
    "# Set comprehensions provide a concise way to create sets based on existing sets or other iterables.\n",
    "# Here is an example:\n",
    "my_set = {x for x in range(10)}\n",
    "print(my_set) # Output: {0, 1, 2, 3, 4, 5, 6, 7, 8, 9}"
   ]
  },
  {
   "cell_type": "code",
   "execution_count": 18,
   "id": "1508ecc7",
   "metadata": {
    "tags": []
   },
   "outputs": [
    {
     "name": "stdout",
     "output_type": "stream",
     "text": [
      "{0, 2, 4, 6, 8}\n"
     ]
    }
   ],
   "source": [
    "# You can also use conditionals in set comprehensions to filter the elements.\n",
    "# Here is an example:\n",
    "my_set = {x for x in range(10) if x % 2 == 0}\n",
    "print(my_set) # Output: {0, 2, 4, 6, 8}"
   ]
  },
  {
   "cell_type": "code",
   "execution_count": 19,
   "id": "ec24164a",
   "metadata": {
    "tags": []
   },
   "outputs": [
    {
     "name": "stdout",
     "output_type": "stream",
     "text": [
      "{0, 2, 4, 6, 8}\n"
     ]
    }
   ],
   "source": [
    "# You can also use conditionals in set comprehensions to filter the elements.\n",
    "# Here is an example:\n",
    "my_set = {x for x in range(10) if x % 2 == 0}\n",
    "print(my_set) # Output: {0, 2, 4, 6, 8}"
   ]
  },
  {
   "cell_type": "markdown",
   "id": "20ba0520",
   "metadata": {},
   "source": [
    "## Frozen Sets"
   ]
  },
  {
   "cell_type": "code",
   "execution_count": null,
   "id": "c74e4700",
   "metadata": {},
   "outputs": [],
   "source": [
    "# Improved and validated code for the \"Frozen Sets\" section:"
   ]
  },
  {
   "cell_type": "code",
   "execution_count": null,
   "id": "a4d30af2",
   "metadata": {},
   "outputs": [],
   "source": [
    "# A frozen set is an immutable version of a set.\n",
    "# You can create a frozen set by using the frozenset() constructor.\n",
    "# Here is an example:\n",
    "my_set = {1, 2, 3}\n",
    "frozen_set = frozenset(my_set)"
   ]
  },
  {
   "cell_type": "code",
   "execution_count": null,
   "id": "a34a80bd",
   "metadata": {},
   "outputs": [],
   "source": [
    "# Trying to add an element to a frozen set will result in a TypeError.\n",
    "# Here is an example:\n",
    "try:\n",
    "    frozen_set.add(4)\n",
    "except AttributeError as e:\n",
    "    print(\"Error:\", e) # Output: Error: 'frozenset' object has no attribute 'add'"
   ]
  },
  {
   "cell_type": "code",
   "execution_count": null,
   "id": "8a561b92",
   "metadata": {},
   "outputs": [],
   "source": [
    "# Trying to add an element to a frozen set will result in a TypeError.\n",
    "# Here is an example:\n",
    "try:\n",
    "    frozen_set.add(4)\n",
    "except AttributeError as e:\n",
    "    print(\"Error:\", e) # Output: Error: 'frozenset' object has no attribute 'add'"
   ]
  }
 ],
 "metadata": {
  "kernelspec": {
   "display_name": "Python 3 (ipykernel)",
   "language": "python",
   "name": "python3"
  },
  "language_info": {
   "codemirror_mode": {
    "name": "ipython",
    "version": 3
   },
   "file_extension": ".py",
   "mimetype": "text/x-python",
   "name": "python",
   "nbconvert_exporter": "python",
   "pygments_lexer": "ipython3",
   "version": "3.9.16"
  }
 },
 "nbformat": 4,
 "nbformat_minor": 5
}
